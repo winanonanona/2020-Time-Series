{
 "cells": [
  {
   "cell_type": "markdown",
   "id": "b86f1893",
   "metadata": {},
   "source": [
    "# Building Trees\n",
    "Author: Winona Wijaya\n",
    "Last updated: 20 Jul 2022"
   ]
  },
  {
   "cell_type": "code",
   "execution_count": null,
   "id": "36d902ec",
   "metadata": {},
   "outputs": [],
   "source": [
    "# in-silico PCR\n",
    "mkdir amplicons_indiv\n",
    "\n",
    "for run in $(find ./genome/ -name \"*.f*\" -type f); do\n",
    "    run_no=$(basename $run)\n",
    "    perl in_silico_PCR.pl -s $run -a AAACTYAAAKGAATTGRCGG -b ACGGGCGGTGTGTRC -l 600 -e > results.txt 2> ./amplicons_indiv/${run_no}_perl_amplicons.fasta\n",
    "done"
   ]
  },
  {
   "cell_type": "code",
   "execution_count": null,
   "id": "49ad85e3",
   "metadata": {},
   "outputs": [],
   "source": [
    "# MAFFT\n",
    "mafft-linsi 02_all_perl_amplicons.fasta > 03_mafft_aligned_amplicons.fasta\n",
    "\n",
    "# running FastTree\n",
    "# first statement of the fasta file must be unique\n",
    "FastTree -nt -gtr -gamma 03_mafft_aligned_amplicons.fasta > 04_FastTree_results.tre\n",
    "#https://bioinformaticsworkbook.org/phylogenetics/FastTree.html#gsc.tab=0\n",
    "# use figtree, reroot using outgroup, add node label which is SH-local support aka same same but different than bootstrapping\n",
    "# Tree > Line thickness 1.5, Tip Label 20, Node label 12"
   ]
  }
 ],
 "metadata": {
  "kernelspec": {
   "display_name": "Bash",
   "language": "bash",
   "name": "bash"
  },
  "language_info": {
   "codemirror_mode": "shell",
   "file_extension": ".sh",
   "mimetype": "text/x-sh",
   "name": "bash"
  }
 },
 "nbformat": 4,
 "nbformat_minor": 5
}
